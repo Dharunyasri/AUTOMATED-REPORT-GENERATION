import datetime

def generate_report(title, content):
    date_str = datetime.now().strftime("%Y-%m-%d %H:%M:%S")
    report = f"Report Title: {title}\nDate: {date_str}\n\n{content}"
    with open("report.txt", "w") as f:
        f.write(report)

title = "Sales Report"
content = "Total Sales: $10,000\nTop Product: Widget A\nRegion: North America"
generate_report(title, content)
